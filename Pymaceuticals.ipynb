{
 "cells": [
  {
   "cell_type": "code",
   "execution_count": 2,
   "id": "d9d3ae65-d171-4eee-895a-a3e2eb52c822",
   "metadata": {},
   "outputs": [],
   "source": [
    "%matplotlib inline"
   ]
  },
  {
   "cell_type": "code",
   "execution_count": 3,
   "id": "e6037906-a11b-47cc-b50f-2f6098c1512f",
   "metadata": {},
   "outputs": [],
   "source": [
    "#######################\n",
    "# Import dependencies #\n",
    "#######################\n",
    "import os\n",
    "import scipy.stats as st\n",
    "import matplotlib.pyplot as plt\n",
    "import pandas as pd\n",
    "pd.set_option('display.max_columns', None)"
   ]
  },
  {
   "cell_type": "code",
   "execution_count": 4,
   "id": "7031cb7f-562b-49e0-a955-c9a95986ffec",
   "metadata": {},
   "outputs": [],
   "source": [
    "#######################################################\n",
    "# Function to save image, ensures that the dir exists #\n",
    "#######################################################\n",
    "def save_chart(name: str):\n",
    "    if os.path.exists(\"images/\"):\n",
    "        plt.savefig(f'images/{name}')\n",
    "    else:\n",
    "        os.mkdir(\"images/\")\n",
    "        save_chart(name)"
   ]
  },
  {
   "cell_type": "code",
   "execution_count": 5,
   "id": "82eee16e-725a-4803-8695-97d60f3552aa",
   "metadata": {},
   "outputs": [],
   "source": [
    "####################\n",
    "# Study data files #\n",
    "####################\n",
    "mouse_metadata_path = \"data/Mouse_metadata.csv\"\n",
    "study_results_path = \"data/Study_results.csv\""
   ]
  },
  {
   "cell_type": "code",
   "execution_count": 6,
   "id": "8fc4079e-f234-45ea-800f-dfa1f07f4ba7",
   "metadata": {},
   "outputs": [],
   "source": [
    "#############################################\n",
    "# Read the mouse data and the study results #\n",
    "#############################################\n",
    "mouse_metadata = pd.read_csv(mouse_metadata_path)\n",
    "study_results = pd.read_csv(study_results_path)"
   ]
  },
  {
   "cell_type": "code",
   "execution_count": 7,
   "id": "5319f001-5e46-48b3-8bc4-f3a1626d9402",
   "metadata": {},
   "outputs": [],
   "source": [
    "##########################################\n",
    "# Combine the data into a single dataset #\n",
    "##########################################\n",
    "raw_data = pd.merge(mouse_metadata, study_results, on=\"Mouse ID\")"
   ]
  },
  {
   "cell_type": "code",
   "execution_count": 8,
   "id": "5fc50131-8512-4549-9bf8-8538aa830454",
   "metadata": {},
   "outputs": [
    {
     "data": {
      "text/html": [
       "<div>\n",
       "<style scoped>\n",
       "    .dataframe tbody tr th:only-of-type {\n",
       "        vertical-align: middle;\n",
       "    }\n",
       "\n",
       "    .dataframe tbody tr th {\n",
       "        vertical-align: top;\n",
       "    }\n",
       "\n",
       "    .dataframe thead th {\n",
       "        text-align: right;\n",
       "    }\n",
       "</style>\n",
       "<table border=\"1\" class=\"dataframe\">\n",
       "  <thead>\n",
       "    <tr style=\"text-align: right;\">\n",
       "      <th></th>\n",
       "      <th>Mouse ID</th>\n",
       "      <th>Drug Regimen</th>\n",
       "      <th>Sex</th>\n",
       "      <th>Age_months</th>\n",
       "      <th>Weight (g)</th>\n",
       "      <th>Timepoint</th>\n",
       "      <th>Tumor Volume (mm3)</th>\n",
       "      <th>Metastatic Sites</th>\n",
       "    </tr>\n",
       "  </thead>\n",
       "  <tbody>\n",
       "    <tr>\n",
       "      <th>0</th>\n",
       "      <td>k403</td>\n",
       "      <td>Ramicane</td>\n",
       "      <td>Male</td>\n",
       "      <td>21</td>\n",
       "      <td>16</td>\n",
       "      <td>0</td>\n",
       "      <td>45.000000</td>\n",
       "      <td>0</td>\n",
       "    </tr>\n",
       "    <tr>\n",
       "      <th>1</th>\n",
       "      <td>k403</td>\n",
       "      <td>Ramicane</td>\n",
       "      <td>Male</td>\n",
       "      <td>21</td>\n",
       "      <td>16</td>\n",
       "      <td>5</td>\n",
       "      <td>38.825898</td>\n",
       "      <td>0</td>\n",
       "    </tr>\n",
       "    <tr>\n",
       "      <th>2</th>\n",
       "      <td>k403</td>\n",
       "      <td>Ramicane</td>\n",
       "      <td>Male</td>\n",
       "      <td>21</td>\n",
       "      <td>16</td>\n",
       "      <td>10</td>\n",
       "      <td>35.014271</td>\n",
       "      <td>1</td>\n",
       "    </tr>\n",
       "    <tr>\n",
       "      <th>3</th>\n",
       "      <td>k403</td>\n",
       "      <td>Ramicane</td>\n",
       "      <td>Male</td>\n",
       "      <td>21</td>\n",
       "      <td>16</td>\n",
       "      <td>15</td>\n",
       "      <td>34.223992</td>\n",
       "      <td>1</td>\n",
       "    </tr>\n",
       "    <tr>\n",
       "      <th>4</th>\n",
       "      <td>k403</td>\n",
       "      <td>Ramicane</td>\n",
       "      <td>Male</td>\n",
       "      <td>21</td>\n",
       "      <td>16</td>\n",
       "      <td>20</td>\n",
       "      <td>32.997729</td>\n",
       "      <td>1</td>\n",
       "    </tr>\n",
       "  </tbody>\n",
       "</table>\n",
       "</div>"
      ],
      "text/plain": [
       "  Mouse ID Drug Regimen   Sex  Age_months  Weight (g)  Timepoint  \\\n",
       "0     k403     Ramicane  Male          21          16          0   \n",
       "1     k403     Ramicane  Male          21          16          5   \n",
       "2     k403     Ramicane  Male          21          16         10   \n",
       "3     k403     Ramicane  Male          21          16         15   \n",
       "4     k403     Ramicane  Male          21          16         20   \n",
       "\n",
       "   Tumor Volume (mm3)  Metastatic Sites  \n",
       "0           45.000000                 0  \n",
       "1           38.825898                 0  \n",
       "2           35.014271                 1  \n",
       "3           34.223992                 1  \n",
       "4           32.997729                 1  "
      ]
     },
     "execution_count": 8,
     "metadata": {},
     "output_type": "execute_result"
    }
   ],
   "source": [
    "######################################\n",
    "# Display the data table for preview #\n",
    "######################################\n",
    "raw_data.head()"
   ]
  },
  {
   "cell_type": "code",
   "execution_count": 9,
   "id": "8ee4c19b-7b47-4bf4-9d3e-cdd03ff5ff20",
   "metadata": {},
   "outputs": [
    {
     "data": {
      "text/plain": [
       "249"
      ]
     },
     "execution_count": 9,
     "metadata": {},
     "output_type": "execute_result"
    }
   ],
   "source": [
    "##########################\n",
    "# Checking the # of mice #\n",
    "##########################\n",
    "mice_count = len(raw_data[\"Mouse ID\"].unique())\n",
    "mice_count"
   ]
  },
  {
   "cell_type": "code",
   "execution_count": 10,
   "id": "ede656ab-a77c-4df8-b64c-51e22bfa50c0",
   "metadata": {},
   "outputs": [
    {
     "data": {
      "text/html": [
       "<div>\n",
       "<style scoped>\n",
       "    .dataframe tbody tr th:only-of-type {\n",
       "        vertical-align: middle;\n",
       "    }\n",
       "\n",
       "    .dataframe tbody tr th {\n",
       "        vertical-align: top;\n",
       "    }\n",
       "\n",
       "    .dataframe thead th {\n",
       "        text-align: right;\n",
       "    }\n",
       "</style>\n",
       "<table border=\"1\" class=\"dataframe\">\n",
       "  <thead>\n",
       "    <tr style=\"text-align: right;\">\n",
       "      <th></th>\n",
       "      <th></th>\n",
       "      <th>Mouse ID</th>\n",
       "    </tr>\n",
       "    <tr>\n",
       "      <th>Mouse ID</th>\n",
       "      <th>Timepoint</th>\n",
       "      <th></th>\n",
       "    </tr>\n",
       "  </thead>\n",
       "  <tbody>\n",
       "    <tr>\n",
       "      <th>l897</th>\n",
       "      <th>45</th>\n",
       "      <td>1</td>\n",
       "    </tr>\n",
       "    <tr>\n",
       "      <th>j913</th>\n",
       "      <th>45</th>\n",
       "      <td>1</td>\n",
       "    </tr>\n",
       "    <tr>\n",
       "      <th>g791</th>\n",
       "      <th>45</th>\n",
       "      <td>1</td>\n",
       "    </tr>\n",
       "    <tr>\n",
       "      <th>h246</th>\n",
       "      <th>45</th>\n",
       "      <td>1</td>\n",
       "    </tr>\n",
       "    <tr>\n",
       "      <th>i177</th>\n",
       "      <th>45</th>\n",
       "      <td>1</td>\n",
       "    </tr>\n",
       "    <tr>\n",
       "      <th>...</th>\n",
       "      <th>...</th>\n",
       "      <td>...</td>\n",
       "    </tr>\n",
       "    <tr>\n",
       "      <th>t994</th>\n",
       "      <th>0</th>\n",
       "      <td>1</td>\n",
       "    </tr>\n",
       "    <tr>\n",
       "      <th>g867</th>\n",
       "      <th>0</th>\n",
       "      <td>1</td>\n",
       "    </tr>\n",
       "    <tr>\n",
       "      <th>t724</th>\n",
       "      <th>0</th>\n",
       "      <td>1</td>\n",
       "    </tr>\n",
       "    <tr>\n",
       "      <th>g989</th>\n",
       "      <th>0</th>\n",
       "      <td>2</td>\n",
       "    </tr>\n",
       "    <tr>\n",
       "      <th>a203</th>\n",
       "      <th>0</th>\n",
       "      <td>1</td>\n",
       "    </tr>\n",
       "  </tbody>\n",
       "</table>\n",
       "<p>1888 rows × 1 columns</p>\n",
       "</div>"
      ],
      "text/plain": [
       "                    Mouse ID\n",
       "Mouse ID Timepoint          \n",
       "l897     45                1\n",
       "j913     45                1\n",
       "g791     45                1\n",
       "h246     45                1\n",
       "i177     45                1\n",
       "...                      ...\n",
       "t994     0                 1\n",
       "g867     0                 1\n",
       "t724     0                 1\n",
       "g989     0                 2\n",
       "a203     0                 1\n",
       "\n",
       "[1888 rows x 1 columns]"
      ]
     },
     "execution_count": 10,
     "metadata": {},
     "output_type": "execute_result"
    }
   ],
   "source": [
    "#####################################################################################\n",
    "# Getting the duplicate mice by ID number that shows up for Mouse ID and Timepoint. #\n",
    "#####################################################################################\n",
    "grouped = raw_data.copy().groupby([\"Mouse ID\", \"Timepoint\"]).agg({\"Mouse ID\": \"count\"}).sort_values(\"Timepoint\", ascending=False)\n",
    "grouped"
   ]
  },
  {
   "cell_type": "markdown",
   "id": "799f8076-f669-4496-9200-6923c16b763c",
   "metadata": {},
   "source": [
    "## Observation\n",
    "\n",
    "We can see that Mouse ID g989 has more than one source of data. In order to maintain consitency for the rest of the data inputed, removing this mouse will eliminate potential skewed data!"
   ]
  },
  {
   "cell_type": "code",
   "execution_count": 11,
   "id": "69af0158-1ecf-48c9-88ee-0ff7746d6689",
   "metadata": {},
   "outputs": [
    {
     "data": {
      "text/html": [
       "<div>\n",
       "<style scoped>\n",
       "    .dataframe tbody tr th:only-of-type {\n",
       "        vertical-align: middle;\n",
       "    }\n",
       "\n",
       "    .dataframe tbody tr th {\n",
       "        vertical-align: top;\n",
       "    }\n",
       "\n",
       "    .dataframe thead th {\n",
       "        text-align: right;\n",
       "    }\n",
       "</style>\n",
       "<table border=\"1\" class=\"dataframe\">\n",
       "  <thead>\n",
       "    <tr style=\"text-align: right;\">\n",
       "      <th></th>\n",
       "      <th>Mouse ID</th>\n",
       "      <th>Drug Regimen</th>\n",
       "      <th>Sex</th>\n",
       "      <th>Age_months</th>\n",
       "      <th>Weight (g)</th>\n",
       "      <th>Timepoint</th>\n",
       "      <th>Tumor Volume (mm3)</th>\n",
       "      <th>Metastatic Sites</th>\n",
       "    </tr>\n",
       "  </thead>\n",
       "  <tbody>\n",
       "    <tr>\n",
       "      <th>0</th>\n",
       "      <td>k403</td>\n",
       "      <td>Ramicane</td>\n",
       "      <td>Male</td>\n",
       "      <td>21</td>\n",
       "      <td>16</td>\n",
       "      <td>0</td>\n",
       "      <td>45.000000</td>\n",
       "      <td>0</td>\n",
       "    </tr>\n",
       "    <tr>\n",
       "      <th>1</th>\n",
       "      <td>k403</td>\n",
       "      <td>Ramicane</td>\n",
       "      <td>Male</td>\n",
       "      <td>21</td>\n",
       "      <td>16</td>\n",
       "      <td>5</td>\n",
       "      <td>38.825898</td>\n",
       "      <td>0</td>\n",
       "    </tr>\n",
       "    <tr>\n",
       "      <th>2</th>\n",
       "      <td>k403</td>\n",
       "      <td>Ramicane</td>\n",
       "      <td>Male</td>\n",
       "      <td>21</td>\n",
       "      <td>16</td>\n",
       "      <td>10</td>\n",
       "      <td>35.014271</td>\n",
       "      <td>1</td>\n",
       "    </tr>\n",
       "    <tr>\n",
       "      <th>3</th>\n",
       "      <td>k403</td>\n",
       "      <td>Ramicane</td>\n",
       "      <td>Male</td>\n",
       "      <td>21</td>\n",
       "      <td>16</td>\n",
       "      <td>15</td>\n",
       "      <td>34.223992</td>\n",
       "      <td>1</td>\n",
       "    </tr>\n",
       "    <tr>\n",
       "      <th>4</th>\n",
       "      <td>k403</td>\n",
       "      <td>Ramicane</td>\n",
       "      <td>Male</td>\n",
       "      <td>21</td>\n",
       "      <td>16</td>\n",
       "      <td>20</td>\n",
       "      <td>32.997729</td>\n",
       "      <td>1</td>\n",
       "    </tr>\n",
       "    <tr>\n",
       "      <th>...</th>\n",
       "      <td>...</td>\n",
       "      <td>...</td>\n",
       "      <td>...</td>\n",
       "      <td>...</td>\n",
       "      <td>...</td>\n",
       "      <td>...</td>\n",
       "      <td>...</td>\n",
       "      <td>...</td>\n",
       "    </tr>\n",
       "    <tr>\n",
       "      <th>1888</th>\n",
       "      <td>z969</td>\n",
       "      <td>Naftisol</td>\n",
       "      <td>Male</td>\n",
       "      <td>9</td>\n",
       "      <td>30</td>\n",
       "      <td>25</td>\n",
       "      <td>63.145652</td>\n",
       "      <td>2</td>\n",
       "    </tr>\n",
       "    <tr>\n",
       "      <th>1889</th>\n",
       "      <td>z969</td>\n",
       "      <td>Naftisol</td>\n",
       "      <td>Male</td>\n",
       "      <td>9</td>\n",
       "      <td>30</td>\n",
       "      <td>30</td>\n",
       "      <td>65.841013</td>\n",
       "      <td>3</td>\n",
       "    </tr>\n",
       "    <tr>\n",
       "      <th>1890</th>\n",
       "      <td>z969</td>\n",
       "      <td>Naftisol</td>\n",
       "      <td>Male</td>\n",
       "      <td>9</td>\n",
       "      <td>30</td>\n",
       "      <td>35</td>\n",
       "      <td>69.176246</td>\n",
       "      <td>4</td>\n",
       "    </tr>\n",
       "    <tr>\n",
       "      <th>1891</th>\n",
       "      <td>z969</td>\n",
       "      <td>Naftisol</td>\n",
       "      <td>Male</td>\n",
       "      <td>9</td>\n",
       "      <td>30</td>\n",
       "      <td>40</td>\n",
       "      <td>70.314904</td>\n",
       "      <td>4</td>\n",
       "    </tr>\n",
       "    <tr>\n",
       "      <th>1892</th>\n",
       "      <td>z969</td>\n",
       "      <td>Naftisol</td>\n",
       "      <td>Male</td>\n",
       "      <td>9</td>\n",
       "      <td>30</td>\n",
       "      <td>45</td>\n",
       "      <td>73.867845</td>\n",
       "      <td>4</td>\n",
       "    </tr>\n",
       "  </tbody>\n",
       "</table>\n",
       "<p>1880 rows × 8 columns</p>\n",
       "</div>"
      ],
      "text/plain": [
       "     Mouse ID Drug Regimen   Sex  Age_months  Weight (g)  Timepoint  \\\n",
       "0        k403     Ramicane  Male          21          16          0   \n",
       "1        k403     Ramicane  Male          21          16          5   \n",
       "2        k403     Ramicane  Male          21          16         10   \n",
       "3        k403     Ramicane  Male          21          16         15   \n",
       "4        k403     Ramicane  Male          21          16         20   \n",
       "...       ...          ...   ...         ...         ...        ...   \n",
       "1888     z969     Naftisol  Male           9          30         25   \n",
       "1889     z969     Naftisol  Male           9          30         30   \n",
       "1890     z969     Naftisol  Male           9          30         35   \n",
       "1891     z969     Naftisol  Male           9          30         40   \n",
       "1892     z969     Naftisol  Male           9          30         45   \n",
       "\n",
       "      Tumor Volume (mm3)  Metastatic Sites  \n",
       "0              45.000000                 0  \n",
       "1              38.825898                 0  \n",
       "2              35.014271                 1  \n",
       "3              34.223992                 1  \n",
       "4              32.997729                 1  \n",
       "...                  ...               ...  \n",
       "1888           63.145652                 2  \n",
       "1889           65.841013                 3  \n",
       "1890           69.176246                 4  \n",
       "1891           70.314904                 4  \n",
       "1892           73.867845                 4  \n",
       "\n",
       "[1880 rows x 8 columns]"
      ]
     },
     "execution_count": 11,
     "metadata": {},
     "output_type": "execute_result"
    }
   ],
   "source": [
    "#######################################################################\n",
    "# Create a clean DataFrame by dropping the duplicate mouse by its ID. #\n",
    "#######################################################################\n",
    "clean_data = raw_data.copy()\n",
    "clean_data = clean_data.drop(clean_data[clean_data[\"Mouse ID\"] == \"g989\"].index)\n",
    "clean_data"
   ]
  },
  {
   "cell_type": "code",
   "execution_count": 12,
   "id": "d1a496b9-28a0-41de-bd4c-686e62c6975b",
   "metadata": {},
   "outputs": [
    {
     "data": {
      "text/plain": [
       "248"
      ]
     },
     "execution_count": 12,
     "metadata": {},
     "output_type": "execute_result"
    }
   ],
   "source": [
    "#######################################################\n",
    "# Checking the number of mice in the clean DataFrame. #\n",
    "#######################################################\n",
    "mice_count = len(clean_data[\"Mouse ID\"].unique())\n",
    "mice_count"
   ]
  },
  {
   "cell_type": "code",
   "execution_count": 13,
   "id": "5f01e62d-e27d-4675-a9b8-70d0752f4331",
   "metadata": {},
   "outputs": [
    {
     "data": {
      "text/html": [
       "<div>\n",
       "<style scoped>\n",
       "    .dataframe tbody tr th:only-of-type {\n",
       "        vertical-align: middle;\n",
       "    }\n",
       "\n",
       "    .dataframe tbody tr th {\n",
       "        vertical-align: top;\n",
       "    }\n",
       "\n",
       "    .dataframe thead th {\n",
       "        text-align: right;\n",
       "    }\n",
       "</style>\n",
       "<table border=\"1\" class=\"dataframe\">\n",
       "  <thead>\n",
       "    <tr style=\"text-align: right;\">\n",
       "      <th></th>\n",
       "      <th>Mean</th>\n",
       "      <th>Median</th>\n",
       "      <th>Variance</th>\n",
       "      <th>Standard Deviation</th>\n",
       "      <th>SEM</th>\n",
       "    </tr>\n",
       "  </thead>\n",
       "  <tbody>\n",
       "    <tr>\n",
       "      <th>0</th>\n",
       "      <td>50.435293</td>\n",
       "      <td>48.933454</td>\n",
       "      <td>79.462907</td>\n",
       "      <td>8.914197</td>\n",
       "      <td>0.205591</td>\n",
       "    </tr>\n",
       "  </tbody>\n",
       "</table>\n",
       "</div>"
      ],
      "text/plain": [
       "        Mean     Median   Variance  Standard Deviation       SEM\n",
       "0  50.435293  48.933454  79.462907            8.914197  0.205591"
      ]
     },
     "execution_count": 13,
     "metadata": {},
     "output_type": "execute_result"
    }
   ],
   "source": [
    "####################################################################\n",
    "# Generate a summary statistics table of mean, median, variance,   #\n",
    "# standard deviation, and SEM of the tumor volume for each regimen #\n",
    "#####################################################################\n",
    "tum_sum_df = pd.DataFrame({\n",
    "    \"Mean\": [clean_data[\"Tumor Volume (mm3)\"].mean()],\n",
    "    \"Median\": [clean_data[\"Tumor Volume (mm3)\"].median()],\n",
    "    \"Variance\": [clean_data[\"Tumor Volume (mm3)\"].var()],\n",
    "    \"Standard Deviation\": [clean_data[\"Tumor Volume (mm3)\"].std()],\n",
    "    \"SEM\": [clean_data[\"Tumor Volume (mm3)\"].sem()]\n",
    "})\n",
    "tum_sum_df"
   ]
  },
  {
   "cell_type": "code",
   "execution_count": 14,
   "id": "81c9c806-70ef-4d1f-9afa-ef29fdcad5f6",
   "metadata": {},
   "outputs": [
    {
     "data": {
      "text/html": [
       "<div>\n",
       "<style scoped>\n",
       "    .dataframe tbody tr th:only-of-type {\n",
       "        vertical-align: middle;\n",
       "    }\n",
       "\n",
       "    .dataframe tbody tr th {\n",
       "        vertical-align: top;\n",
       "    }\n",
       "\n",
       "    .dataframe thead th {\n",
       "        text-align: right;\n",
       "    }\n",
       "</style>\n",
       "<table border=\"1\" class=\"dataframe\">\n",
       "  <thead>\n",
       "    <tr style=\"text-align: right;\">\n",
       "      <th></th>\n",
       "      <th>Mean</th>\n",
       "      <th>Median</th>\n",
       "      <th>Variance</th>\n",
       "      <th>Standard Deviation</th>\n",
       "      <th>SEM</th>\n",
       "    </tr>\n",
       "    <tr>\n",
       "      <th>Drug Regimen</th>\n",
       "      <th></th>\n",
       "      <th></th>\n",
       "      <th></th>\n",
       "      <th></th>\n",
       "      <th></th>\n",
       "    </tr>\n",
       "  </thead>\n",
       "  <tbody>\n",
       "    <tr>\n",
       "      <th>Capomulin</th>\n",
       "      <td>40.675741</td>\n",
       "      <td>41.557809</td>\n",
       "      <td>24.947764</td>\n",
       "      <td>4.994774</td>\n",
       "      <td>0.329346</td>\n",
       "    </tr>\n",
       "    <tr>\n",
       "      <th>Ceftamin</th>\n",
       "      <td>52.591172</td>\n",
       "      <td>51.776157</td>\n",
       "      <td>39.290177</td>\n",
       "      <td>6.268188</td>\n",
       "      <td>0.469821</td>\n",
       "    </tr>\n",
       "    <tr>\n",
       "      <th>Infubinol</th>\n",
       "      <td>52.884795</td>\n",
       "      <td>51.820584</td>\n",
       "      <td>43.128684</td>\n",
       "      <td>6.567243</td>\n",
       "      <td>0.492236</td>\n",
       "    </tr>\n",
       "    <tr>\n",
       "      <th>Ketapril</th>\n",
       "      <td>55.235638</td>\n",
       "      <td>53.698743</td>\n",
       "      <td>68.553577</td>\n",
       "      <td>8.279709</td>\n",
       "      <td>0.603860</td>\n",
       "    </tr>\n",
       "    <tr>\n",
       "      <th>Naftisol</th>\n",
       "      <td>54.331565</td>\n",
       "      <td>52.509285</td>\n",
       "      <td>66.173479</td>\n",
       "      <td>8.134708</td>\n",
       "      <td>0.596466</td>\n",
       "    </tr>\n",
       "    <tr>\n",
       "      <th>Placebo</th>\n",
       "      <td>54.033581</td>\n",
       "      <td>52.288934</td>\n",
       "      <td>61.168083</td>\n",
       "      <td>7.821003</td>\n",
       "      <td>0.581331</td>\n",
       "    </tr>\n",
       "    <tr>\n",
       "      <th>Propriva</th>\n",
       "      <td>52.320930</td>\n",
       "      <td>50.446266</td>\n",
       "      <td>43.852013</td>\n",
       "      <td>6.622085</td>\n",
       "      <td>0.544332</td>\n",
       "    </tr>\n",
       "    <tr>\n",
       "      <th>Ramicane</th>\n",
       "      <td>40.216745</td>\n",
       "      <td>40.673236</td>\n",
       "      <td>23.486704</td>\n",
       "      <td>4.846308</td>\n",
       "      <td>0.320955</td>\n",
       "    </tr>\n",
       "    <tr>\n",
       "      <th>Stelasyn</th>\n",
       "      <td>54.233149</td>\n",
       "      <td>52.431737</td>\n",
       "      <td>59.450562</td>\n",
       "      <td>7.710419</td>\n",
       "      <td>0.573111</td>\n",
       "    </tr>\n",
       "    <tr>\n",
       "      <th>Zoniferol</th>\n",
       "      <td>53.236507</td>\n",
       "      <td>51.818479</td>\n",
       "      <td>48.533355</td>\n",
       "      <td>6.966589</td>\n",
       "      <td>0.516398</td>\n",
       "    </tr>\n",
       "  </tbody>\n",
       "</table>\n",
       "</div>"
      ],
      "text/plain": [
       "                   Mean     Median   Variance  Standard Deviation       SEM\n",
       "Drug Regimen                                                               \n",
       "Capomulin     40.675741  41.557809  24.947764            4.994774  0.329346\n",
       "Ceftamin      52.591172  51.776157  39.290177            6.268188  0.469821\n",
       "Infubinol     52.884795  51.820584  43.128684            6.567243  0.492236\n",
       "Ketapril      55.235638  53.698743  68.553577            8.279709  0.603860\n",
       "Naftisol      54.331565  52.509285  66.173479            8.134708  0.596466\n",
       "Placebo       54.033581  52.288934  61.168083            7.821003  0.581331\n",
       "Propriva      52.320930  50.446266  43.852013            6.622085  0.544332\n",
       "Ramicane      40.216745  40.673236  23.486704            4.846308  0.320955\n",
       "Stelasyn      54.233149  52.431737  59.450562            7.710419  0.573111\n",
       "Zoniferol     53.236507  51.818479  48.533355            6.966589  0.516398"
      ]
     },
     "execution_count": 14,
     "metadata": {},
     "output_type": "execute_result"
    }
   ],
   "source": [
    "###########################################################################################################\n",
    "# Use groupby and summary statistical methods to calculate the following properties of each drug regimen: #\n",
    "# mean, median, variance, standard deviation, and SEM of the tumor volume.                                #\n",
    "# Assemble the resulting series into a single summary dataframe.                                          #\n",
    "###########################################################################################################\n",
    "regimen_tum_sum_df = pd.DataFrame({\n",
    "    \"Mean\": clean_data.groupby(\"Drug Regimen\")[\"Tumor Volume (mm3)\"].mean(),\n",
    "    \"Median\": clean_data.groupby(\"Drug Regimen\")[\"Tumor Volume (mm3)\"].median(),\n",
    "    \"Variance\": clean_data.groupby(\"Drug Regimen\")[\"Tumor Volume (mm3)\"].var(),\n",
    "    \"Standard Deviation\": clean_data.groupby(\"Drug Regimen\")[\"Tumor Volume (mm3)\"].std(),\n",
    "    \"SEM\": clean_data.groupby(\"Drug Regimen\")[\"Tumor Volume (mm3)\"].sem()\n",
    "})\n",
    "regimen_tum_sum_df"
   ]
  },
  {
   "cell_type": "code",
   "execution_count": 15,
   "id": "f71b61b6-95c6-4d7d-b4a5-838e11420086",
   "metadata": {},
   "outputs": [
    {
     "data": {
      "text/html": [
       "<div>\n",
       "<style scoped>\n",
       "    .dataframe tbody tr th:only-of-type {\n",
       "        vertical-align: middle;\n",
       "    }\n",
       "\n",
       "    .dataframe tbody tr th {\n",
       "        vertical-align: top;\n",
       "    }\n",
       "\n",
       "    .dataframe thead tr th {\n",
       "        text-align: left;\n",
       "    }\n",
       "\n",
       "    .dataframe thead tr:last-of-type th {\n",
       "        text-align: right;\n",
       "    }\n",
       "</style>\n",
       "<table border=\"1\" class=\"dataframe\">\n",
       "  <thead>\n",
       "    <tr>\n",
       "      <th></th>\n",
       "      <th colspan=\"5\" halign=\"left\">Tumor Volume (mm3)</th>\n",
       "    </tr>\n",
       "    <tr>\n",
       "      <th></th>\n",
       "      <th>mean</th>\n",
       "      <th>median</th>\n",
       "      <th>var</th>\n",
       "      <th>std</th>\n",
       "      <th>sem</th>\n",
       "    </tr>\n",
       "    <tr>\n",
       "      <th>Drug Regimen</th>\n",
       "      <th></th>\n",
       "      <th></th>\n",
       "      <th></th>\n",
       "      <th></th>\n",
       "      <th></th>\n",
       "    </tr>\n",
       "  </thead>\n",
       "  <tbody>\n",
       "    <tr>\n",
       "      <th>Capomulin</th>\n",
       "      <td>40.675741</td>\n",
       "      <td>41.557809</td>\n",
       "      <td>24.947764</td>\n",
       "      <td>4.994774</td>\n",
       "      <td>0.329346</td>\n",
       "    </tr>\n",
       "    <tr>\n",
       "      <th>Ceftamin</th>\n",
       "      <td>52.591172</td>\n",
       "      <td>51.776157</td>\n",
       "      <td>39.290177</td>\n",
       "      <td>6.268188</td>\n",
       "      <td>0.469821</td>\n",
       "    </tr>\n",
       "    <tr>\n",
       "      <th>Infubinol</th>\n",
       "      <td>52.884795</td>\n",
       "      <td>51.820584</td>\n",
       "      <td>43.128684</td>\n",
       "      <td>6.567243</td>\n",
       "      <td>0.492236</td>\n",
       "    </tr>\n",
       "    <tr>\n",
       "      <th>Ketapril</th>\n",
       "      <td>55.235638</td>\n",
       "      <td>53.698743</td>\n",
       "      <td>68.553577</td>\n",
       "      <td>8.279709</td>\n",
       "      <td>0.603860</td>\n",
       "    </tr>\n",
       "    <tr>\n",
       "      <th>Naftisol</th>\n",
       "      <td>54.331565</td>\n",
       "      <td>52.509285</td>\n",
       "      <td>66.173479</td>\n",
       "      <td>8.134708</td>\n",
       "      <td>0.596466</td>\n",
       "    </tr>\n",
       "    <tr>\n",
       "      <th>Placebo</th>\n",
       "      <td>54.033581</td>\n",
       "      <td>52.288934</td>\n",
       "      <td>61.168083</td>\n",
       "      <td>7.821003</td>\n",
       "      <td>0.581331</td>\n",
       "    </tr>\n",
       "    <tr>\n",
       "      <th>Propriva</th>\n",
       "      <td>52.320930</td>\n",
       "      <td>50.446266</td>\n",
       "      <td>43.852013</td>\n",
       "      <td>6.622085</td>\n",
       "      <td>0.544332</td>\n",
       "    </tr>\n",
       "    <tr>\n",
       "      <th>Ramicane</th>\n",
       "      <td>40.216745</td>\n",
       "      <td>40.673236</td>\n",
       "      <td>23.486704</td>\n",
       "      <td>4.846308</td>\n",
       "      <td>0.320955</td>\n",
       "    </tr>\n",
       "    <tr>\n",
       "      <th>Stelasyn</th>\n",
       "      <td>54.233149</td>\n",
       "      <td>52.431737</td>\n",
       "      <td>59.450562</td>\n",
       "      <td>7.710419</td>\n",
       "      <td>0.573111</td>\n",
       "    </tr>\n",
       "    <tr>\n",
       "      <th>Zoniferol</th>\n",
       "      <td>53.236507</td>\n",
       "      <td>51.818479</td>\n",
       "      <td>48.533355</td>\n",
       "      <td>6.966589</td>\n",
       "      <td>0.516398</td>\n",
       "    </tr>\n",
       "  </tbody>\n",
       "</table>\n",
       "</div>"
      ],
      "text/plain": [
       "             Tumor Volume (mm3)                                          \n",
       "                           mean     median        var       std       sem\n",
       "Drug Regimen                                                             \n",
       "Capomulin             40.675741  41.557809  24.947764  4.994774  0.329346\n",
       "Ceftamin              52.591172  51.776157  39.290177  6.268188  0.469821\n",
       "Infubinol             52.884795  51.820584  43.128684  6.567243  0.492236\n",
       "Ketapril              55.235638  53.698743  68.553577  8.279709  0.603860\n",
       "Naftisol              54.331565  52.509285  66.173479  8.134708  0.596466\n",
       "Placebo               54.033581  52.288934  61.168083  7.821003  0.581331\n",
       "Propriva              52.320930  50.446266  43.852013  6.622085  0.544332\n",
       "Ramicane              40.216745  40.673236  23.486704  4.846308  0.320955\n",
       "Stelasyn              54.233149  52.431737  59.450562  7.710419  0.573111\n",
       "Zoniferol             53.236507  51.818479  48.533355  6.966589  0.516398"
      ]
     },
     "execution_count": 15,
     "metadata": {},
     "output_type": "execute_result"
    }
   ],
   "source": [
    "############################################################################################\n",
    "# Generate a summary statistics table of mean,                                             #\n",
    "#       median, variance, standard deviation, and SEM of the tumor volume for each regimen #\n",
    "# Using the aggregation method, produce the same summary statistics in a single line       #\n",
    "############################################################################################\n",
    "agg_df = clean_data.groupby(\"Drug Regimen\").agg({\"Tumor Volume (mm3)\": ['mean', 'median', 'var', 'std', 'sem']})\n",
    "agg_df"
   ]
  },
  {
   "cell_type": "code",
   "execution_count": 16,
   "id": "83205740-a416-47c5-80f7-c6ce9a7d997b",
   "metadata": {},
   "outputs": [
    {
     "data": {
      "image/png": "[encoded data removed]",
      "text/plain": [
       "<Figure size 432x288 with 1 Axes>"
      ]
     },
     "metadata": {
      "needs_background": "light"
     },
     "output_type": "display_data"
    }
   ],
   "source": [
    "######################################################################################################################\n",
    "# Generate a bar plot showing the total number of timepoints for all mice tested for each drug regimen using Pandas. #\n",
    "######################################################################################################################\n",
    "timepoint_count = clean_data.groupby([\"Drug Regimen\"]).agg({\"Timepoint\": \"count\"})\n",
    "timepoint_count.plot(kind=\"bar\", rot=45)\n",
    "save_chart(\"Pandas_Regimen_vs_Timepoint\")\n",
    "plt.show()"
   ]
  },
  {
   "cell_type": "code",
   "execution_count": 17,
   "id": "088ca3ac-4f57-4475-bb88-becc007ba1bd",
   "metadata": {},
   "outputs": [
    {
     "data": {
      "image/png": "[encoded data removed]",
      "text/plain": [
       "<Figure size 432x288 with 1 Axes>"
      ]
     },
     "metadata": {
      "needs_background": "light"
     },
     "output_type": "display_data"
    }
   ],
   "source": [
    "######################################################################################################################\n",
    "# Generate a bar plot showing the total number of timepoints for all mice tested for each drug regimen using pyplot. #\n",
    "######################################################################################################################\n",
    "x_axis = clean_data[\"Drug Regimen\"].unique()\n",
    "plt.bar(x_axis, timepoint_count[\"Timepoint\"])\n",
    "plt.xlabel(\"Drug Regimen\")\n",
    "plt.xticks(rotation=45)\n",
    "plt.ylabel(\"Timepoint count\")\n",
    "plt.title(\"Drug Regiment Total Measurements\")\n",
    "save_chart(\"MatPlotLib_Regimen_vs_Timepoint\")\n",
    "plt.show()"
   ]
  },
  {
   "cell_type": "code",
   "execution_count": 18,
   "id": "dc3c6479-1a29-4862-9dd5-2e6cc919a2ef",
   "metadata": {},
   "outputs": [
    {
     "data": {
      "image/png": "[encoded data removed]",
      "text/plain": [
       "<Figure size 432x288 with 1 Axes>"
      ]
     },
     "metadata": {},
     "output_type": "display_data"
    }
   ],
   "source": [
    "########################################################################################\n",
    "# Generate a pie plot showing the distribution of female versus male mice using Pandas #\n",
    "########################################################################################\n",
    "genders = clean_data.groupby(\"Sex\").nunique()[\"Mouse ID\"]\n",
    "genders.plot(kind=\"pie\", autopct='%1.1f%%', startangle=45)\n",
    "plt.title(\"Pandas Pie chart\")\n",
    "save_chart(\"Pandas_Genders_Pie\")\n",
    "plt.show()"
   ]
  },
  {
   "cell_type": "code",
   "execution_count": 19,
   "id": "4d5e8c1d-a82a-4054-8eb2-6418d57ae56b",
   "metadata": {},
   "outputs": [
    {
     "data": {
      "image/png": "[encoded data removed]",
      "text/plain": [
       "<Figure size 432x288 with 1 Axes>"
      ]
     },
     "metadata": {},
     "output_type": "display_data"
    }
   ],
   "source": [
    "########################################################################################\n",
    "# Generate a pie plot showing the distribution of female versus male mice using pyplot #\n",
    "########################################################################################\n",
    "labels = [\"Female\", \"Male\"]\n",
    "fig1, ax1 = plt.subplots()\n",
    "ax1.pie(genders, labels=labels, autopct='%1.1f%%', startangle=90)\n",
    "ax1.axis('equal')\n",
    "plt.title(\"Pyplot Pie chart\")\n",
    "save_chart(\"Plt_Genders_Pie\")\n",
    "plt.show()"
   ]
  },
  {
   "cell_type": "markdown",
   "id": "2ca0e9e6-a762-4530-8285-e948280455a8",
   "metadata": {},
   "source": [
    "## Observation\n",
    "\n",
    "There can not be any bias on gender as both sexes are almost exactly represented"
   ]
  },
  {
   "cell_type": "code",
   "execution_count": 20,
   "id": "15fb3950-7a1e-4901-a2fd-a48137b0d539",
   "metadata": {},
   "outputs": [],
   "source": [
    "#########################################################################################\n",
    "# Calculate the final tumor volume of each mouse across four of the treatment regimens: #\n",
    "# Capomulin, Ramicane, Infubinol, and Ceftamin                                          #\n",
    "#########################################################################################\n",
    "Capomulin = clean_data.loc[clean_data[\"Drug Regimen\"] == \"Capomulin\"]\\\n",
    "    .groupby(\"Mouse ID\").agg({\"Tumor Volume (mm3)\": \"last\"})\n",
    "Ramaicane = clean_data.loc[clean_data[\"Drug Regimen\"] == \"Ramicane\"]\\\n",
    "    .groupby(\"Mouse ID\").agg({\"Tumor Volume (mm3)\": \"last\"})\n",
    "Infubinol = clean_data.loc[clean_data[\"Drug Regimen\"] == \"Infubinol\"]\\\n",
    "    .groupby(\"Mouse ID\").agg({\"Tumor Volume (mm3)\": \"last\"})\n",
    "Ceftamin = clean_data.loc[clean_data[\"Drug Regimen\"] == \"Ceftamin\"]\\\n",
    "    .groupby(\"Mouse ID\").agg({\"Tumor Volume (mm3)\": \"last\"})"
   ]
  },
  {
   "cell_type": "code",
   "execution_count": 57,
   "id": "9271fdef-1951-422d-94f1-d9f69bf68462",
   "metadata": {},
   "outputs": [
    {
     "name": "stdout",
     "output_type": "stream",
     "text": [
      "The lower quartile of temperatures is: 32.37735684\n",
      "The upper quartile of temperatures is: 40.1592203\n",
      "The interquartile range of temperatures is: 7.781863460000004\n",
      "The the median of temperatures is: 38.1251644 \n",
      "Lower outlier = \n",
      "Empty DataFrame\n",
      "Columns: [Tumor Volume (mm3)]\n",
      "Index: []\n",
      "Upper outliers = \n",
      "Empty DataFrame\n",
      "Columns: [Tumor Volume (mm3)]\n",
      "Index: []\n",
      "The lower quartile of temperatures is: 31.56046955\n",
      "The upper quartile of temperatures is: 40.65900627\n",
      "The interquartile range of temperatures is: 9.098536719999998\n",
      "The the median of temperatures is: 36.56165229 \n",
      "Lower outlier = \n",
      "Empty DataFrame\n",
      "Columns: [Tumor Volume (mm3)]\n",
      "Index: []\n",
      "Upper outliers = \n",
      "Empty DataFrame\n",
      "Columns: [Tumor Volume (mm3)]\n",
      "Index: []\n",
      "The lower quartile of temperatures is: 54.04860769\n",
      "The upper quartile of temperatures is: 65.52574285\n",
      "The interquartile range of temperatures is: 11.477135160000003\n",
      "The the median of temperatures is: 60.16518046 \n",
      "Lower outlier = \n",
      "          Tumor Volume (mm3)\n",
      "Mouse ID                    \n",
      "c326               36.321346\n",
      "Upper outliers = \n",
      "Empty DataFrame\n",
      "Columns: [Tumor Volume (mm3)]\n",
      "Index: []\n",
      "The lower quartile of temperatures is: 48.72207785\n",
      "The upper quartile of temperatures is: 64.29983003\n",
      "The interquartile range of temperatures is: 15.577752179999997\n",
      "The the median of temperatures is: 59.85195552 \n",
      "Lower outlier = \n",
      "Empty DataFrame\n",
      "Columns: [Tumor Volume (mm3)]\n",
      "Index: []\n",
      "Upper outliers = \n",
      "Empty DataFrame\n",
      "Columns: [Tumor Volume (mm3)]\n",
      "Index: []\n"
     ]
    }
   ],
   "source": [
    "##################################################################################\n",
    "# Find the quartiles for the 4 drug regimen and find any outliers mathematically #\n",
    "##################################################################################\n",
    "regimen = [Capomulin, Ramaicane, Infubinol, Ceftamin]\n",
    "for x in regimen:\n",
    "    quartiles = x[\"Tumor Volume (mm3)\"].quantile([.25,.5,.75])\n",
    "    lowerq = quartiles[.25]\n",
    "    upperq = quartiles[.75]\n",
    "    iqr = upperq-lowerq\n",
    "    print(f\"The lower quartile of temperatures is: {lowerq}\")\n",
    "    print(f\"The upper quartile of temperatures is: {upperq}\")\n",
    "    print(f\"The interquartile range of temperatures is: {iqr}\")\n",
    "    print(f\"The the median of temperatures is: {quartiles[0.5]} \")\n",
    "\n",
    "    lower_bound = lowerq - (1.5*iqr)\n",
    "    upper_bound = upperq + (1.5*iqr)\n",
    "    print(f'Lower outlier = \\n{x[x[\"Tumor Volume (mm3)\"] < lower_bound]}')\n",
    "    print(f'Upper outliers = \\n{x[x[\"Tumor Volume (mm3)\"] > upper_bound]}')"
   ]
  },
  {
   "cell_type": "markdown",
   "id": "9331878b-a74b-4be8-b4bb-49e514f3539d",
   "metadata": {},
   "source": [
    "## Observation\n",
    "Mouse ID c326 exceeds the lower limits and will be an outlier when generating the boxplot!"
   ]
  },
  {
   "cell_type": "code",
   "execution_count": 58,
   "id": "4f404836-a078-44bb-8ce0-802d21bb9bf6",
   "metadata": {},
   "outputs": [
    {
     "data": {
      "image/png": "[encoded data removed]",
      "text/plain": [
       "<Figure size 864x576 with 1 Axes>"
      ]
     },
     "metadata": {
      "needs_background": "light"
     },
     "output_type": "display_data"
    }
   ],
   "source": [
    "################################################################################################\n",
    "# Generate a box plot of the final tumor volume of each mouse across four regimens of interest #\n",
    "################################################################################################\n",
    "fig, ax = plt.subplots(figsize=(12, 8))\n",
    "ax.boxplot([Capomulin[\"Tumor Volume (mm3)\"],\n",
    "            Ramaicane[\"Tumor Volume (mm3)\"],\n",
    "            Infubinol[\"Tumor Volume (mm3)\"],\n",
    "            Ceftamin[\"Tumor Volume (mm3)\"]],\n",
    "          flierprops = {'markerfacecolor' : 'red'})\n",
    "ax.set_xticklabels([\"Capomulin\", \"Ramaicane\", \"Infubinol\", \"Ceftamin\"])\n",
    "plt.title(\"Capomulin, Ramaicane, Infubinol, Ceftamin Tumor's\")\n",
    "plt.xlabel(\"Drug Regimen\")\n",
    "plt.ylabel(\"Final Tumor Volume (mm^3)\")\n",
    "save_chart(\"Top_4_BoxPlot\")\n",
    "plt.show()"
   ]
  },
  {
   "cell_type": "markdown",
   "id": "6c397d3d-44d5-464d-b22a-a29f8f874ba5",
   "metadata": {},
   "source": [
    "## Observation\n",
    "As stated above, there is one outlier for the Infubinol regimen!"
   ]
  },
  {
   "cell_type": "code",
   "execution_count": 23,
   "id": "f3e9c403-a931-4634-af11-4ae5064ee851",
   "metadata": {},
   "outputs": [
    {
     "data": {
      "image/png": "[encoded data removed]",
      "text/plain": [
       "<Figure size 432x288 with 1 Axes>"
      ]
     },
     "metadata": {
      "needs_background": "light"
     },
     "output_type": "display_data"
    }
   ],
   "source": [
    "##########################################################################################\n",
    "# Generate a line plot of tumor volume vs. time point for a mouse treated with Capomulin #\n",
    "##########################################################################################\n",
    "l509_tum = clean_data.loc[clean_data[\"Mouse ID\"] == \"l509\"][\"Tumor Volume (mm3)\"]\n",
    "l509_time = clean_data.loc[clean_data[\"Mouse ID\"] == \"l509\"][\"Timepoint\"]\n",
    "plt.plot(l509_time, l509_tum)\n",
    "plt.xlabel(\"Timepoint\")\n",
    "plt.ylabel(\"Tumor Volume (mm3)\")\n",
    "plt.title(\"Mouse ID: l509 Tumor vs. Time\")\n",
    "save_chart(\"L509_Tumor_vs_Time\")\n",
    "plt.show()"
   ]
  },
  {
   "cell_type": "markdown",
   "id": "02a19d5a-0f1a-4622-b0ee-e0392fa464f4",
   "metadata": {},
   "source": [
    "## Observation\n",
    "L509 would be a great poster subject to demonstrate how effective Capomulin regimen can be!"
   ]
  },
  {
   "cell_type": "code",
   "execution_count": 30,
   "id": "e60867f9-0f2c-4a48-8396-8355039226c7",
   "metadata": {},
   "outputs": [
    {
     "data": {
      "image/png": "[encoded data removed]",
      "text/plain": [
       "<Figure size 432x288 with 1 Axes>"
      ]
     },
     "metadata": {
      "needs_background": "light"
     },
     "output_type": "display_data"
    }
   ],
   "source": [
    "##############################################################################################\n",
    "# Generate a scatter plot of average tumor volume vs. mouse weight for the Capomulin regimen #\n",
    "##############################################################################################\n",
    "Capomulin_avg = clean_data.loc[clean_data[\"Drug Regimen\"] == \"Capomulin\"]\\\n",
    "    .groupby(\"Mouse ID\").agg({\"Tumor Volume (mm3)\": \"mean\"})\n",
    "Capomulin_weight = clean_data.loc[clean_data[\"Drug Regimen\"] == \"Capomulin\"]\\\n",
    "    .groupby(\"Mouse ID\").agg({\"Weight (g)\": \"mean\"})\n",
    "plt.scatter(Capomulin_avg, Capomulin_weight)\n",
    "plt.xlabel(\"Capomulin Tumor Volume (mm3)\")\n",
    "plt.ylabel(\"Subject Weight (g)\")\n",
    "plt.title(\"Capomulin Tumor Vol vs Weight\")\n",
    "save_chart(\"Tumor_vs_Weight\")\n",
    "plt.show()"
   ]
  },
  {
   "cell_type": "markdown",
   "id": "18e1fbaf-398f-45e5-80f5-df05d0628471",
   "metadata": {},
   "source": [
    "## Observation\n",
    "Weight and Tumor Volume have a strong relationship as one increases so does the other"
   ]
  },
  {
   "cell_type": "code",
   "execution_count": 27,
   "id": "300546af-9ae9-4a4b-b7cd-19a1b8c26197",
   "metadata": {},
   "outputs": [
    {
     "data": {
      "image/png": "[encoded data removed]",
      "text/plain": [
       "<Figure size 432x288 with 1 Axes>"
      ]
     },
     "metadata": {
      "needs_background": "light"
     },
     "output_type": "display_data"
    }
   ],
   "source": [
    "#######################################################################\n",
    "# Calculate the correlation coefficient and linear regression model   #\n",
    "# for mouse weight and average tumor volume for the Capomulin regimen #\n",
    "#######################################################################\n",
    "result = st.linregress(\n",
    "    clean_data[clean_data[\"Drug Regimen\"] == \"Capomulin\"][\"Weight (g)\"],\n",
    "    clean_data[clean_data[\"Drug Regimen\"] == \"Capomulin\"][\"Tumor Volume (mm3)\"]\n",
    ")\n",
    "plt.scatter(\n",
    "    clean_data[clean_data[\"Drug Regimen\"] == \"Capomulin\"][\"Weight (g)\"],\n",
    "    clean_data[clean_data[\"Drug Regimen\"] == \"Capomulin\"][\"Tumor Volume (mm3)\"]\n",
    ")\n",
    "formula = result.slope * clean_data[clean_data[\"Drug Regimen\"] == \"Capomulin\"][\"Weight (g)\"] + result.intercept\n",
    "plt.plot(\n",
    "    clean_data[clean_data[\"Drug Regimen\"] == \"Capomulin\"][\"Weight (g)\"],\n",
    "    formula,\n",
    "    color='red',\n",
    "    label=f'y = {\"{:.2f}\".format(result.slope)}x + {\"{:.2f}\".format(result.intercept)}'\n",
    ")\n",
    "plt.xlabel(\"Capomulin Subject Weight (g)\")\n",
    "plt.ylabel(\"Capomulin Subject Tumor Volume (mm3)\")\n",
    "plt.title(\"Capomulin Weight(g) vs Tumor Volume\")\n",
    "plt.legend(loc='lower right')\n",
    "save_chart(\"Weight_vs_TumorVol\")\n",
    "plt.show()"
   ]
  }
 ],
 "metadata": {
  "kernelspec": {
   "display_name": "Python 3 (ipykernel)",
   "language": "python",
   "name": "python3"
  },
  "language_info": {
   "codemirror_mode": {
    "name": "ipython",
    "version": 3
   },
   "file_extension": ".py",
   "mimetype": "text/x-python",
   "name": "python",
   "nbconvert_exporter": "python",
   "pygments_lexer": "ipython3",
   "version": "3.8.8"
  }
 },
 "nbformat": 4,
 "nbformat_minor": 5
}
